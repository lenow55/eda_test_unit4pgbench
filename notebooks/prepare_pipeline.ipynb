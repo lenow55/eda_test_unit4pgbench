{
 "cells": [
  {
   "cell_type": "code",
   "execution_count": 1,
   "id": "c3b96ebd-6c1c-45ef-ad83-8372a3f4e3fd",
   "metadata": {},
   "outputs": [],
   "source": [
    "import os\n",
    "import pandas as pd"
   ]
  },
  {
   "cell_type": "code",
   "execution_count": 2,
   "id": "f2ea4101-bfa3-4748-9314-a6d1feaf0a99",
   "metadata": {},
   "outputs": [],
   "source": [
    "base_dir = \"../data/\""
   ]
  },
  {
   "cell_type": "code",
   "execution_count": 3,
   "id": "961f060c-86c9-41f1-bcff-dfe822fb3174",
   "metadata": {},
   "outputs": [],
   "source": [
    "df = pd.read_json(os.path.join(base_dir, \"full_compared_df.json\"))"
   ]
  },
  {
   "cell_type": "code",
   "execution_count": 4,
   "id": "43e8b735-2619-4aec-b2fb-9f02cd774339",
   "metadata": {},
   "outputs": [
    {
     "data": {
      "text/plain": [
       "1182"
      ]
     },
     "execution_count": 4,
     "metadata": {},
     "output_type": "execute_result"
    }
   ],
   "source": [
    "df.shape[0]"
   ]
  },
  {
   "cell_type": "code",
   "execution_count": 5,
   "id": "b79b7d41-7d15-4340-81fb-5a72a4f8d735",
   "metadata": {},
   "outputs": [
    {
     "data": {
      "text/plain": [
       "Index(['size', 'connections', 'read_percent', 'write_percent',\n",
       "       'write_query_id', 'read_query_id', 'template', 'queries_no_p',\n",
       "       'tps_no_p', 'process_file_no_p', 'queries_p', 'tps_p', 'process_file_p',\n",
       "       'count_in_group'],\n",
       "      dtype='object')"
      ]
     },
     "execution_count": 5,
     "metadata": {},
     "output_type": "execute_result"
    }
   ],
   "source": [
    "df.columns"
   ]
  },
  {
   "cell_type": "code",
   "execution_count": 6,
   "id": "ae7bf191-8a19-4e4b-bff6-139710313240",
   "metadata": {},
   "outputs": [],
   "source": [
    "df_double = df.loc[df[\"count_in_group\"] > 1 & df[\"count_in_group\"].notna()]"
   ]
  },
  {
   "cell_type": "code",
   "execution_count": 7,
   "id": "12bda997-735f-4f49-b0d3-b88b34502513",
   "metadata": {},
   "outputs": [
    {
     "data": {
      "text/plain": [
       "1166"
      ]
     },
     "execution_count": 7,
     "metadata": {},
     "output_type": "execute_result"
    }
   ],
   "source": [
    "df_double.shape[0]"
   ]
  },
  {
   "cell_type": "code",
   "execution_count": 15,
   "id": "3975ddde-6dcb-4c6e-8d3a-5bc5e4e0a51c",
   "metadata": {},
   "outputs": [
    {
     "name": "stdout",
     "output_type": "stream",
     "text": [
      "<class 'pandas.core.frame.DataFrame'>\n",
      "Index: 1166 entries, 0 to 1181\n",
      "Data columns (total 14 columns):\n",
      " #   Column             Non-Null Count  Dtype \n",
      "---  ------             --------------  ----- \n",
      " 0   size               1166 non-null   int64 \n",
      " 1   connections        1166 non-null   int64 \n",
      " 2   read_percent       1166 non-null   int64 \n",
      " 3   write_percent      1166 non-null   int64 \n",
      " 4   write_query_id     1166 non-null   int64 \n",
      " 5   read_query_id      1166 non-null   int64 \n",
      " 6   template           1166 non-null   object\n",
      " 7   queries_no_p       1166 non-null   object\n",
      " 8   tps_no_p           1166 non-null   object\n",
      " 9   process_file_no_p  1166 non-null   object\n",
      " 10  queries_p          1166 non-null   object\n",
      " 11  tps_p              1166 non-null   object\n",
      " 12  process_file_p     1166 non-null   object\n",
      " 13  count_in_group     1166 non-null   int64 \n",
      "dtypes: int64(7), object(7)\n",
      "memory usage: 136.6+ KB\n"
     ]
    }
   ],
   "source": [
    "df_double.info()"
   ]
  },
  {
   "cell_type": "markdown",
   "id": "2f908dc1-a562-4b94-8ec0-79f365465c04",
   "metadata": {},
   "source": [
    "## формирую фичи эффективности"
   ]
  },
  {
   "cell_type": "code",
   "execution_count": 17,
   "id": "35ab8299-2e0f-4842-8b7e-45a04660f96b",
   "metadata": {},
   "outputs": [
    {
     "name": "stderr",
     "output_type": "stream",
     "text": [
      "/tmp/ipykernel_38306/3883617989.py:1: SettingWithCopyWarning: \n",
      "A value is trying to be set on a copy of a slice from a DataFrame.\n",
      "Try using .loc[row_indexer,col_indexer] = value instead\n",
      "\n",
      "See the caveats in the documentation: https://pandas.pydata.org/pandas-docs/stable/user_guide/indexing.html#returning-a-view-versus-a-copy\n",
      "  df_double[\"effective\"] = df_double[\"tps_p\"].astype(float) > df_double[\"tps_no_p\"].astype(float)\n"
     ]
    }
   ],
   "source": [
    "df_double[\"effective\"] = df_double[\"tps_p\"].astype(float) > df_double[\"tps_no_p\"].astype(float)"
   ]
  },
  {
   "cell_type": "code",
   "execution_count": 18,
   "id": "f192d2b1-e8c0-487e-87ac-61c094229890",
   "metadata": {},
   "outputs": [
    {
     "data": {
      "text/plain": [
       "effective\n",
       "True     790\n",
       "False    376\n",
       "Name: count, dtype: int64"
      ]
     },
     "execution_count": 18,
     "metadata": {},
     "output_type": "execute_result"
    }
   ],
   "source": [
    "df_double[\"effective\"].value_counts(dropna=False)"
   ]
  },
  {
   "cell_type": "code",
   "execution_count": 19,
   "id": "b1bbff40-dc42-4234-a9a4-5bf2d1470a4a",
   "metadata": {},
   "outputs": [
    {
     "name": "stderr",
     "output_type": "stream",
     "text": [
      "/tmp/ipykernel_38306/3530313600.py:1: SettingWithCopyWarning: \n",
      "A value is trying to be set on a copy of a slice from a DataFrame.\n",
      "Try using .loc[row_indexer,col_indexer] = value instead\n",
      "\n",
      "See the caveats in the documentation: https://pandas.pydata.org/pandas-docs/stable/user_guide/indexing.html#returning-a-view-versus-a-copy\n",
      "  df_double[\"effective_coef\"] = df_double[\"tps_p\"].astype(float) / df_double[\"tps_no_p\"].astype(float)\n"
     ]
    }
   ],
   "source": [
    "df_double[\"effective_coef\"] = df_double[\"tps_p\"].astype(float) / df_double[\"tps_no_p\"].astype(float)"
   ]
  },
  {
   "cell_type": "code",
   "execution_count": 27,
   "id": "dbf4e5d3-4010-4383-ac4c-f2221e0a7c4e",
   "metadata": {},
   "outputs": [
    {
     "data": {
      "text/html": [
       "<div>\n",
       "<style scoped>\n",
       "    .dataframe tbody tr th:only-of-type {\n",
       "        vertical-align: middle;\n",
       "    }\n",
       "\n",
       "    .dataframe tbody tr th {\n",
       "        vertical-align: top;\n",
       "    }\n",
       "\n",
       "    .dataframe thead th {\n",
       "        text-align: right;\n",
       "    }\n",
       "</style>\n",
       "<table border=\"1\" class=\"dataframe\">\n",
       "  <thead>\n",
       "    <tr style=\"text-align: right;\">\n",
       "      <th></th>\n",
       "      <th>size</th>\n",
       "      <th>connections</th>\n",
       "      <th>read_percent</th>\n",
       "      <th>write_percent</th>\n",
       "      <th>write_query_id</th>\n",
       "      <th>read_query_id</th>\n",
       "      <th>template</th>\n",
       "      <th>queries_no_p</th>\n",
       "      <th>tps_no_p</th>\n",
       "      <th>process_file_no_p</th>\n",
       "      <th>queries_p</th>\n",
       "      <th>tps_p</th>\n",
       "      <th>process_file_p</th>\n",
       "      <th>count_in_group</th>\n",
       "      <th>effective</th>\n",
       "      <th>effective_coef</th>\n",
       "    </tr>\n",
       "  </thead>\n",
       "  <tbody>\n",
       "    <tr>\n",
       "      <th>52</th>\n",
       "      <td>100</td>\n",
       "      <td>100</td>\n",
       "      <td>36</td>\n",
       "      <td>66</td>\n",
       "      <td>1</td>\n",
       "      <td>0</td>\n",
       "      <td>query_111111.sql.tpl</td>\n",
       "      <td>[{'query': 'SELECT a.*, b.*, t.* FROM pgbench_...</td>\n",
       "      <td>5151.94476</td>\n",
       "      <td>./data/output/test_res_id_32.txt</td>\n",
       "      <td>[{'query': 'SELECT a.*, b.*, t.* FROM pgbench_...</td>\n",
       "      <td>4553.333854</td>\n",
       "      <td>./data/output/test_res_id_33.txt</td>\n",
       "      <td>2</td>\n",
       "      <td>False</td>\n",
       "      <td>0.883809</td>\n",
       "    </tr>\n",
       "    <tr>\n",
       "      <th>53</th>\n",
       "      <td>100</td>\n",
       "      <td>100</td>\n",
       "      <td>73</td>\n",
       "      <td>27</td>\n",
       "      <td>1</td>\n",
       "      <td>0</td>\n",
       "      <td>query_111111.sql.tpl</td>\n",
       "      <td>[{'query': 'SELECT a.*, b.*, t.* FROM pgbench_...</td>\n",
       "      <td>5540.099949</td>\n",
       "      <td>./data/output/test_res_id_34.txt</td>\n",
       "      <td>[{'query': 'SELECT a.*, b.*, t.* FROM pgbench_...</td>\n",
       "      <td>5456.251435</td>\n",
       "      <td>./data/output/test_res_id_35.txt</td>\n",
       "      <td>2</td>\n",
       "      <td>False</td>\n",
       "      <td>0.984865</td>\n",
       "    </tr>\n",
       "    <tr>\n",
       "      <th>54</th>\n",
       "      <td>100</td>\n",
       "      <td>100</td>\n",
       "      <td>92</td>\n",
       "      <td>8</td>\n",
       "      <td>1</td>\n",
       "      <td>0</td>\n",
       "      <td>query_111111.sql.tpl</td>\n",
       "      <td>[{'query': 'SELECT a.*, b.*, t.* FROM pgbench_...</td>\n",
       "      <td>5061.393373</td>\n",
       "      <td>./data/output/test_res_id_36.txt</td>\n",
       "      <td>[{'query': 'SELECT a.*, b.*, t.* FROM pgbench_...</td>\n",
       "      <td>3394.174551</td>\n",
       "      <td>./data/output/test_res_id_37.txt</td>\n",
       "      <td>2</td>\n",
       "      <td>False</td>\n",
       "      <td>0.670601</td>\n",
       "    </tr>\n",
       "    <tr>\n",
       "      <th>64</th>\n",
       "      <td>100</td>\n",
       "      <td>320</td>\n",
       "      <td>36</td>\n",
       "      <td>66</td>\n",
       "      <td>1</td>\n",
       "      <td>0</td>\n",
       "      <td>query_111111.sql.tpl</td>\n",
       "      <td>[{'query': 'SELECT a.*, b.*, t.* FROM pgbench_...</td>\n",
       "      <td>3087.084146</td>\n",
       "      <td>./data/output/test_res_id_164.txt</td>\n",
       "      <td>[{'query': 'SELECT a.*, b.*, t.* FROM pgbench_...</td>\n",
       "      <td>2975.374359</td>\n",
       "      <td>./data/output/test_res_id_165.txt</td>\n",
       "      <td>2</td>\n",
       "      <td>False</td>\n",
       "      <td>0.963814</td>\n",
       "    </tr>\n",
       "    <tr>\n",
       "      <th>188</th>\n",
       "      <td>100</td>\n",
       "      <td>90</td>\n",
       "      <td>36</td>\n",
       "      <td>66</td>\n",
       "      <td>1</td>\n",
       "      <td>0</td>\n",
       "      <td>query_111111.sql.tpl</td>\n",
       "      <td>[{'query': 'SELECT a.*, b.*, t.* FROM pgbench_...</td>\n",
       "      <td>153.006126</td>\n",
       "      <td>./data/output/test_res_id_56.txt</td>\n",
       "      <td>[{'query': 'SELECT a.*, b.*, t.* FROM pgbench_...</td>\n",
       "      <td>102.89688</td>\n",
       "      <td>./data/output/test_res_id_57.txt</td>\n",
       "      <td>2</td>\n",
       "      <td>False</td>\n",
       "      <td>0.672502</td>\n",
       "    </tr>\n",
       "  </tbody>\n",
       "</table>\n",
       "</div>"
      ],
      "text/plain": [
       "     size  connections  read_percent  write_percent  write_query_id  \\\n",
       "52    100          100            36             66               1   \n",
       "53    100          100            73             27               1   \n",
       "54    100          100            92              8               1   \n",
       "64    100          320            36             66               1   \n",
       "188   100           90            36             66               1   \n",
       "\n",
       "     read_query_id              template  \\\n",
       "52               0  query_111111.sql.tpl   \n",
       "53               0  query_111111.sql.tpl   \n",
       "54               0  query_111111.sql.tpl   \n",
       "64               0  query_111111.sql.tpl   \n",
       "188              0  query_111111.sql.tpl   \n",
       "\n",
       "                                          queries_no_p     tps_no_p  \\\n",
       "52   [{'query': 'SELECT a.*, b.*, t.* FROM pgbench_...   5151.94476   \n",
       "53   [{'query': 'SELECT a.*, b.*, t.* FROM pgbench_...  5540.099949   \n",
       "54   [{'query': 'SELECT a.*, b.*, t.* FROM pgbench_...  5061.393373   \n",
       "64   [{'query': 'SELECT a.*, b.*, t.* FROM pgbench_...  3087.084146   \n",
       "188  [{'query': 'SELECT a.*, b.*, t.* FROM pgbench_...   153.006126   \n",
       "\n",
       "                     process_file_no_p  \\\n",
       "52    ./data/output/test_res_id_32.txt   \n",
       "53    ./data/output/test_res_id_34.txt   \n",
       "54    ./data/output/test_res_id_36.txt   \n",
       "64   ./data/output/test_res_id_164.txt   \n",
       "188   ./data/output/test_res_id_56.txt   \n",
       "\n",
       "                                             queries_p        tps_p  \\\n",
       "52   [{'query': 'SELECT a.*, b.*, t.* FROM pgbench_...  4553.333854   \n",
       "53   [{'query': 'SELECT a.*, b.*, t.* FROM pgbench_...  5456.251435   \n",
       "54   [{'query': 'SELECT a.*, b.*, t.* FROM pgbench_...  3394.174551   \n",
       "64   [{'query': 'SELECT a.*, b.*, t.* FROM pgbench_...  2975.374359   \n",
       "188  [{'query': 'SELECT a.*, b.*, t.* FROM pgbench_...    102.89688   \n",
       "\n",
       "                        process_file_p  count_in_group  effective  \\\n",
       "52    ./data/output/test_res_id_33.txt               2      False   \n",
       "53    ./data/output/test_res_id_35.txt               2      False   \n",
       "54    ./data/output/test_res_id_37.txt               2      False   \n",
       "64   ./data/output/test_res_id_165.txt               2      False   \n",
       "188   ./data/output/test_res_id_57.txt               2      False   \n",
       "\n",
       "     effective_coef  \n",
       "52         0.883809  \n",
       "53         0.984865  \n",
       "54         0.670601  \n",
       "64         0.963814  \n",
       "188        0.672502  "
      ]
     },
     "execution_count": 27,
     "metadata": {},
     "output_type": "execute_result"
    }
   ],
   "source": [
    "df_double.loc[(df_double[\"size\"] == 100)\\\n",
    "   & (df_double[\"read_percent\"] < 100 )\\\n",
    "   # & (df_double[\"template\"] == \"query_222222.sql.tpl\" )\\\n",
    "   & (df_double[\"effective_coef\"] < 1.0)].head()"
   ]
  },
  {
   "cell_type": "code",
   "execution_count": 52,
   "id": "a7831e46-ba7d-439d-8b9f-747449044d1a",
   "metadata": {},
   "outputs": [
    {
     "data": {
      "text/plain": [
       "count    1166.000000\n",
       "mean        1.303747\n",
       "std         0.684521\n",
       "min         0.284239\n",
       "25%         0.934648\n",
       "50%         1.175874\n",
       "75%         1.447375\n",
       "max         8.038749\n",
       "Name: effective_coef, dtype: float64"
      ]
     },
     "execution_count": 52,
     "metadata": {},
     "output_type": "execute_result"
    }
   ],
   "source": [
    "df_double[\"effective_coef\"].describe()"
   ]
  },
  {
   "cell_type": "markdown",
   "id": "77c0c3d7-dafa-4c6a-a3f8-9c35ef95fbd5",
   "metadata": {},
   "source": [
    "## добавляю фичи памяти"
   ]
  },
  {
   "cell_type": "markdown",
   "id": "49fe28b0-015f-41a0-8447-ecc5e7620109",
   "metadata": {},
   "source": [
    "**было включено кэша на 2 гб на инстансах бд и 3 гб на gppool в каждом тесте**"
   ]
  },
  {
   "cell_type": "code",
   "execution_count": 53,
   "id": "c3a3a49a-82cf-436e-aea7-2c057043fd03",
   "metadata": {},
   "outputs": [
    {
     "data": {
      "text/plain": [
       "size\n",
       "300    228\n",
       "100    218\n",
       "120    212\n",
       "280    212\n",
       "150    192\n",
       "200     95\n",
       "400      9\n",
       "Name: count, dtype: int64"
      ]
     },
     "execution_count": 53,
     "metadata": {},
     "output_type": "execute_result"
    }
   ],
   "source": [
    "df_double[\"size\"].value_counts(dropna=False)"
   ]
  },
  {
   "cell_type": "code",
   "execution_count": 55,
   "id": "6ff56996-cbdc-4a0f-b13c-9528fc097139",
   "metadata": {},
   "outputs": [],
   "source": [
    "maping_size2memory_consumption = {\n",
    "    \"100\": 1.3,\n",
    "    \"120\": 1.55,\n",
    "    \"150\": 1.95,\n",
    "    \"200\": 2.57,\n",
    "    \"280\": 3.6,\n",
    "    \"300\": 3.85,\n",
    "    \"400\": 5.15\n",
    "}\n",
    "\n",
    "def maper_func_memory(size, base_size):\n",
    "    real_mem = maping_size2memory_consumption[str(int(size))]\n",
    "    return real_mem / base_size"
   ]
  },
  {
   "cell_type": "code",
   "execution_count": 56,
   "id": "fe16385f-02ae-436c-a83b-07bd72c49602",
   "metadata": {},
   "outputs": [
    {
     "name": "stderr",
     "output_type": "stream",
     "text": [
      "/tmp/ipykernel_57815/423166093.py:1: SettingWithCopyWarning: \n",
      "A value is trying to be set on a copy of a slice from a DataFrame.\n",
      "Try using .loc[row_indexer,col_indexer] = value instead\n",
      "\n",
      "See the caveats in the documentation: https://pandas.pydata.org/pandas-docs/stable/user_guide/indexing.html#returning-a-view-versus-a-copy\n",
      "  df_double[\"db_mem_coef\"] = df_double[\"size\"].apply(maper_func_memory, base_size=2.0)\n"
     ]
    }
   ],
   "source": [
    "df_double[\"db_mem_coef\"] = df_double[\"size\"].apply(maper_func_memory, base_size=2.0)"
   ]
  },
  {
   "cell_type": "code",
   "execution_count": 57,
   "id": "2ff47078-1fff-4a06-a74b-531631552963",
   "metadata": {},
   "outputs": [
    {
     "name": "stderr",
     "output_type": "stream",
     "text": [
      "/tmp/ipykernel_57815/4236952757.py:1: SettingWithCopyWarning: \n",
      "A value is trying to be set on a copy of a slice from a DataFrame.\n",
      "Try using .loc[row_indexer,col_indexer] = value instead\n",
      "\n",
      "See the caveats in the documentation: https://pandas.pydata.org/pandas-docs/stable/user_guide/indexing.html#returning-a-view-versus-a-copy\n",
      "  df_double[\"pgpool_cache_coef\"] = df_double[\"size\"].apply(maper_func_memory, base_size=3.0)\n"
     ]
    }
   ],
   "source": [
    "df_double[\"pgpool_cache_coef\"] = df_double[\"size\"].apply(maper_func_memory, base_size=3.0)"
   ]
  },
  {
   "cell_type": "code",
   "execution_count": 60,
   "id": "9d1ffe3f-e672-4867-bdb5-c92d136bc2f8",
   "metadata": {},
   "outputs": [
    {
     "data": {
      "text/html": [
       "<div>\n",
       "<style scoped>\n",
       "    .dataframe tbody tr th:only-of-type {\n",
       "        vertical-align: middle;\n",
       "    }\n",
       "\n",
       "    .dataframe tbody tr th {\n",
       "        vertical-align: top;\n",
       "    }\n",
       "\n",
       "    .dataframe thead th {\n",
       "        text-align: right;\n",
       "    }\n",
       "</style>\n",
       "<table border=\"1\" class=\"dataframe\">\n",
       "  <thead>\n",
       "    <tr style=\"text-align: right;\">\n",
       "      <th></th>\n",
       "      <th>db_mem_coef</th>\n",
       "      <th>pgpool_cache_coef</th>\n",
       "    </tr>\n",
       "  </thead>\n",
       "  <tbody>\n",
       "    <tr>\n",
       "      <th>count</th>\n",
       "      <td>1166.000000</td>\n",
       "      <td>1166.000000</td>\n",
       "    </tr>\n",
       "    <tr>\n",
       "      <th>mean</th>\n",
       "      <td>1.251244</td>\n",
       "      <td>0.834162</td>\n",
       "    </tr>\n",
       "    <tr>\n",
       "      <th>std</th>\n",
       "      <td>0.527981</td>\n",
       "      <td>0.351987</td>\n",
       "    </tr>\n",
       "    <tr>\n",
       "      <th>min</th>\n",
       "      <td>0.650000</td>\n",
       "      <td>0.433333</td>\n",
       "    </tr>\n",
       "    <tr>\n",
       "      <th>25%</th>\n",
       "      <td>0.775000</td>\n",
       "      <td>0.516667</td>\n",
       "    </tr>\n",
       "    <tr>\n",
       "      <th>50%</th>\n",
       "      <td>0.975000</td>\n",
       "      <td>0.650000</td>\n",
       "    </tr>\n",
       "    <tr>\n",
       "      <th>75%</th>\n",
       "      <td>1.800000</td>\n",
       "      <td>1.200000</td>\n",
       "    </tr>\n",
       "    <tr>\n",
       "      <th>max</th>\n",
       "      <td>2.575000</td>\n",
       "      <td>1.716667</td>\n",
       "    </tr>\n",
       "  </tbody>\n",
       "</table>\n",
       "</div>"
      ],
      "text/plain": [
       "       db_mem_coef  pgpool_cache_coef\n",
       "count  1166.000000        1166.000000\n",
       "mean      1.251244           0.834162\n",
       "std       0.527981           0.351987\n",
       "min       0.650000           0.433333\n",
       "25%       0.775000           0.516667\n",
       "50%       0.975000           0.650000\n",
       "75%       1.800000           1.200000\n",
       "max       2.575000           1.716667"
      ]
     },
     "execution_count": 60,
     "metadata": {},
     "output_type": "execute_result"
    }
   ],
   "source": [
    "df_double[[\"db_mem_coef\",\"pgpool_cache_coef\"]].describe()"
   ]
  },
  {
   "cell_type": "markdown",
   "id": "6b530d84-f9e0-4600-a355-bd5d14b524d4",
   "metadata": {},
   "source": [
    "## Формирую признак сложности"
   ]
  },
  {
   "cell_type": "code",
   "execution_count": 63,
   "id": "7e9e8ec1-d827-4b75-9537-824be2373839",
   "metadata": {},
   "outputs": [
    {
     "data": {
      "text/plain": [
       "[{'query': 'SELECT a.*, b.*, t.* FROM pgbench_accounts AS a JOIN pgbench_branches AS b ON a.bid = b.bid JOIN pgbench_tellers AS t ON b.bid = t.bid WHERE a.aid = :aid;',\n",
       "  'analyze': 'SELECT a.*, b.*, t.* FROM pgbench_accounts AS a JOIN pgbench_branches AS b ON a.bid = b.bid JOIN pgbench_tellers AS t ON b.bid = t.bid WHERE a.aid = 10;',\n",
       "  'explain': 'cost=8.61..29.05 rows=10 width=813',\n",
       "  'explain_file': './data/output/explain_id_24_query_id_0.txt'}]"
      ]
     },
     "execution_count": 63,
     "metadata": {},
     "output_type": "execute_result"
    }
   ],
   "source": [
    "df_double[\"queries_no_p\"].iloc[0]."
   ]
  },
  {
   "cell_type": "code",
   "execution_count": 75,
   "id": "e10797d9-7b89-4f60-8c7e-71e07d31eaac",
   "metadata": {},
   "outputs": [],
   "source": [
    "def get_explain_info(row):\n",
    "    queries_dict = row[\"queries_no_p\"]\n",
    "    read_id = row[\"read_query_id\"]\n",
    "    write_id = row [\"write_query_id\"]\n",
    "    read_exp = 0.0\n",
    "    write_exp = 0.0\n",
    "    try:\n",
    "        read_query_dict = queries_dict[read_id]\n",
    "        match = re.search(r\"\\.\\.(\\d+\\.\\d+)\", read_query_dict[\"explain\"])\n",
    "        if match:\n",
    "            read_exp = float(match.group(1))\n",
    "    except IndexError:\n",
    "        pass\n",
    "    try:\n",
    "        write_query_dict = queries_dict[write_id]\n",
    "        match = re.search(r\"\\.\\.(\\d+\\.\\d+)\", write_query_dict[\"explain\"])\n",
    "        if match:\n",
    "            write_exp = float(match.group(1))\n",
    "    except IndexError:\n",
    "        pass\n",
    "    return read_exp, write_exp"
   ]
  },
  {
   "cell_type": "code",
   "execution_count": 76,
   "id": "f70a0a68-173c-4624-83b5-b392f6955f4c",
   "metadata": {},
   "outputs": [
    {
     "name": "stderr",
     "output_type": "stream",
     "text": [
      "/tmp/ipykernel_57815/3448010084.py:1: SettingWithCopyWarning: \n",
      "A value is trying to be set on a copy of a slice from a DataFrame.\n",
      "Try using .loc[row_indexer,col_indexer] = value instead\n",
      "\n",
      "See the caveats in the documentation: https://pandas.pydata.org/pandas-docs/stable/user_guide/indexing.html#returning-a-view-versus-a-copy\n",
      "  df_double[\"read_cost\"], df_double[\"write_cost\"] = zip(\n"
     ]
    }
   ],
   "source": [
    "df_double[\"read_cost\"], df_double[\"write_cost\"] = zip(\n",
    "    *df_double[[\"queries_no_p\",\"read_query_id\",\"write_query_id\"]].apply(get_explain_info, axis=1)\n",
    ")"
   ]
  },
  {
   "cell_type": "code",
   "execution_count": 77,
   "id": "81e04ea3-5096-4c67-84b9-269ff5980338",
   "metadata": {},
   "outputs": [
    {
     "data": {
      "text/html": [
       "<div>\n",
       "<style scoped>\n",
       "    .dataframe tbody tr th:only-of-type {\n",
       "        vertical-align: middle;\n",
       "    }\n",
       "\n",
       "    .dataframe tbody tr th {\n",
       "        vertical-align: top;\n",
       "    }\n",
       "\n",
       "    .dataframe thead th {\n",
       "        text-align: right;\n",
       "    }\n",
       "</style>\n",
       "<table border=\"1\" class=\"dataframe\">\n",
       "  <thead>\n",
       "    <tr style=\"text-align: right;\">\n",
       "      <th></th>\n",
       "      <th>read_cost</th>\n",
       "      <th>write_cost</th>\n",
       "    </tr>\n",
       "  </thead>\n",
       "  <tbody>\n",
       "    <tr>\n",
       "      <th>count</th>\n",
       "      <td>1166.000000</td>\n",
       "      <td>1166.000000</td>\n",
       "    </tr>\n",
       "    <tr>\n",
       "      <th>mean</th>\n",
       "      <td>427.778328</td>\n",
       "      <td>1395.123842</td>\n",
       "    </tr>\n",
       "    <tr>\n",
       "      <th>std</th>\n",
       "      <td>1765.437988</td>\n",
       "      <td>7524.922895</td>\n",
       "    </tr>\n",
       "    <tr>\n",
       "      <th>min</th>\n",
       "      <td>0.010000</td>\n",
       "      <td>0.000000</td>\n",
       "    </tr>\n",
       "    <tr>\n",
       "      <th>25%</th>\n",
       "      <td>18.410000</td>\n",
       "      <td>8.460000</td>\n",
       "    </tr>\n",
       "    <tr>\n",
       "      <th>50%</th>\n",
       "      <td>32.550000</td>\n",
       "      <td>13.090000</td>\n",
       "    </tr>\n",
       "    <tr>\n",
       "      <th>75%</th>\n",
       "      <td>61.857500</td>\n",
       "      <td>289.272500</td>\n",
       "    </tr>\n",
       "    <tr>\n",
       "      <th>max</th>\n",
       "      <td>34414.940000</td>\n",
       "      <td>100081.720000</td>\n",
       "    </tr>\n",
       "  </tbody>\n",
       "</table>\n",
       "</div>"
      ],
      "text/plain": [
       "          read_cost     write_cost\n",
       "count   1166.000000    1166.000000\n",
       "mean     427.778328    1395.123842\n",
       "std     1765.437988    7524.922895\n",
       "min        0.010000       0.000000\n",
       "25%       18.410000       8.460000\n",
       "50%       32.550000      13.090000\n",
       "75%       61.857500     289.272500\n",
       "max    34414.940000  100081.720000"
      ]
     },
     "execution_count": 77,
     "metadata": {},
     "output_type": "execute_result"
    }
   ],
   "source": [
    "df_double[[\"read_cost\", \"write_cost\"]].describe()"
   ]
  },
  {
   "cell_type": "markdown",
   "id": "987afdeb-5807-49cc-8870-e48a5da8d894",
   "metadata": {},
   "source": [
    "## Записываю фичи в csv"
   ]
  },
  {
   "cell_type": "code",
   "execution_count": 79,
   "id": "6065b474-b902-44c5-b3bf-43e6defe85a8",
   "metadata": {},
   "outputs": [
    {
     "data": {
      "text/plain": [
       "Index(['size', 'connections', 'read_percent', 'write_percent',\n",
       "       'write_query_id', 'read_query_id', 'template', 'queries_no_p',\n",
       "       'tps_no_p', 'process_file_no_p', 'queries_p', 'tps_p', 'process_file_p',\n",
       "       'count_in_group', 'effective', 'effective_coef', 'db_mem_coef',\n",
       "       'pgpool_cache_coef', 'read_cost', 'write_cost'],\n",
       "      dtype='object')"
      ]
     },
     "execution_count": 79,
     "metadata": {},
     "output_type": "execute_result"
    }
   ],
   "source": [
    "df_double.columns"
   ]
  },
  {
   "cell_type": "code",
   "execution_count": 80,
   "id": "74e1f353-76af-4067-908c-ef6956e78788",
   "metadata": {},
   "outputs": [],
   "source": [
    "df_need = df_double[['connections', 'read_percent', 'write_percent',\n",
    "                     'db_mem_coef', 'pgpool_cache_coef', 'read_cost', 'write_cost',\n",
    "                     'effective', 'effective_coef']]"
   ]
  },
  {
   "cell_type": "code",
   "execution_count": 81,
   "id": "f102cea2-c943-46a0-be79-039ab875fb16",
   "metadata": {},
   "outputs": [
    {
     "data": {
      "text/plain": [
       "Index(['connections', 'read_percent', 'write_percent', 'db_mem_coef',\n",
       "       'pgpool_cache_coef', 'read_cost', 'write_cost', 'effective',\n",
       "       'effective_coef'],\n",
       "      dtype='object')"
      ]
     },
     "execution_count": 81,
     "metadata": {},
     "output_type": "execute_result"
    }
   ],
   "source": [
    "df_need.columns"
   ]
  },
  {
   "cell_type": "code",
   "execution_count": 83,
   "id": "8a259a3f-b217-4c34-ae99-1b48a20614c3",
   "metadata": {},
   "outputs": [
    {
     "data": {
      "text/html": [
       "<div>\n",
       "<style scoped>\n",
       "    .dataframe tbody tr th:only-of-type {\n",
       "        vertical-align: middle;\n",
       "    }\n",
       "\n",
       "    .dataframe tbody tr th {\n",
       "        vertical-align: top;\n",
       "    }\n",
       "\n",
       "    .dataframe thead th {\n",
       "        text-align: right;\n",
       "    }\n",
       "</style>\n",
       "<table border=\"1\" class=\"dataframe\">\n",
       "  <thead>\n",
       "    <tr style=\"text-align: right;\">\n",
       "      <th></th>\n",
       "      <th>connections</th>\n",
       "      <th>read_percent</th>\n",
       "      <th>write_percent</th>\n",
       "      <th>db_mem_coef</th>\n",
       "      <th>pgpool_cache_coef</th>\n",
       "      <th>read_cost</th>\n",
       "      <th>write_cost</th>\n",
       "      <th>effective</th>\n",
       "      <th>effective_coef</th>\n",
       "    </tr>\n",
       "  </thead>\n",
       "  <tbody>\n",
       "    <tr>\n",
       "      <th>0</th>\n",
       "      <td>80</td>\n",
       "      <td>100</td>\n",
       "      <td>0</td>\n",
       "      <td>0.65</td>\n",
       "      <td>0.433333</td>\n",
       "      <td>29.05</td>\n",
       "      <td>0.0</td>\n",
       "      <td>True</td>\n",
       "      <td>1.085585</td>\n",
       "    </tr>\n",
       "    <tr>\n",
       "      <th>1</th>\n",
       "      <td>90</td>\n",
       "      <td>100</td>\n",
       "      <td>0</td>\n",
       "      <td>0.65</td>\n",
       "      <td>0.433333</td>\n",
       "      <td>29.05</td>\n",
       "      <td>0.0</td>\n",
       "      <td>True</td>\n",
       "      <td>1.030422</td>\n",
       "    </tr>\n",
       "    <tr>\n",
       "      <th>2</th>\n",
       "      <td>100</td>\n",
       "      <td>100</td>\n",
       "      <td>0</td>\n",
       "      <td>0.65</td>\n",
       "      <td>0.433333</td>\n",
       "      <td>29.05</td>\n",
       "      <td>0.0</td>\n",
       "      <td>True</td>\n",
       "      <td>1.032450</td>\n",
       "    </tr>\n",
       "    <tr>\n",
       "      <th>3</th>\n",
       "      <td>150</td>\n",
       "      <td>100</td>\n",
       "      <td>0</td>\n",
       "      <td>0.65</td>\n",
       "      <td>0.433333</td>\n",
       "      <td>29.05</td>\n",
       "      <td>0.0</td>\n",
       "      <td>True</td>\n",
       "      <td>2.429909</td>\n",
       "    </tr>\n",
       "    <tr>\n",
       "      <th>4</th>\n",
       "      <td>210</td>\n",
       "      <td>100</td>\n",
       "      <td>0</td>\n",
       "      <td>0.65</td>\n",
       "      <td>0.433333</td>\n",
       "      <td>29.05</td>\n",
       "      <td>0.0</td>\n",
       "      <td>True</td>\n",
       "      <td>2.218325</td>\n",
       "    </tr>\n",
       "  </tbody>\n",
       "</table>\n",
       "</div>"
      ],
      "text/plain": [
       "   connections  read_percent  write_percent  db_mem_coef  pgpool_cache_coef  \\\n",
       "0           80           100              0         0.65           0.433333   \n",
       "1           90           100              0         0.65           0.433333   \n",
       "2          100           100              0         0.65           0.433333   \n",
       "3          150           100              0         0.65           0.433333   \n",
       "4          210           100              0         0.65           0.433333   \n",
       "\n",
       "   read_cost  write_cost  effective  effective_coef  \n",
       "0      29.05         0.0       True        1.085585  \n",
       "1      29.05         0.0       True        1.030422  \n",
       "2      29.05         0.0       True        1.032450  \n",
       "3      29.05         0.0       True        2.429909  \n",
       "4      29.05         0.0       True        2.218325  "
      ]
     },
     "execution_count": 83,
     "metadata": {},
     "output_type": "execute_result"
    }
   ],
   "source": [
    "df_need.head()"
   ]
  },
  {
   "cell_type": "code",
   "execution_count": 85,
   "id": "cf39485c-8036-4605-a92d-6c7b0b6e31fa",
   "metadata": {},
   "outputs": [],
   "source": [
    "df_need.to_csv(os.path.join(base_dir, \"prepared_df.csv\"), index=False)"
   ]
  }
 ],
 "metadata": {
  "kernelspec": {
   "display_name": "Python 3 (ipykernel)",
   "language": "python",
   "name": "python3"
  },
  "language_info": {
   "codemirror_mode": {
    "name": "ipython",
    "version": 3
   },
   "file_extension": ".py",
   "mimetype": "text/x-python",
   "name": "python",
   "nbconvert_exporter": "python",
   "pygments_lexer": "ipython3",
   "version": "3.12.4"
  }
 },
 "nbformat": 4,
 "nbformat_minor": 5
}
